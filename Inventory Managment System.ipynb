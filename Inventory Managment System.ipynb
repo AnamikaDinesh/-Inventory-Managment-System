{
 "cells": [
  {
   "cell_type": "markdown",
   "metadata": {},
   "source": [
    "#### Inventory Managment System"
   ]
  },
  {
   "cell_type": "code",
   "execution_count": 1,
   "metadata": {},
   "outputs": [],
   "source": [
    "product={1:{\"product_name\":\"rice\",\"price\": 452 ,\"exp_date\":\"2/12/2025\" ,\"quantity\":\"10kg\" ,\"qty_available\":50 } , \n",
    "        2:{\"product_name\":\"wheat\",\"price\": 300,\"exp_date\":\"2/11/2023\" ,\"quantity\": \"5kg\" ,\"qty_available\":45 } , \n",
    "        3:{\"product_name\":\"detergent\",\"price\":200 ,\"exp_date\": \"22/7/2025\",\"quantity\": \"1.5kg\",\"qty_available\":60 } , \n",
    "        4:{\"product_name\":\"soap\",\"price\": 50,\"exp_date\":\"12/12/2022\" ,\"quantity\": \"1\",\"qty_available\": 200} , \n",
    "        5:{\"product_name\":\"sanitizer\",\"price\": 110,\"exp_date\":\"5/10/2023\" ,\"quantity\": \"100ml\" ,\"qty_available\":100 } , \n",
    "        6:{\"product_name\": \"handwash\",\"price\":85 ,\"exp_date\":\"3/5/2022\",\"quantity\":\"100ml\"  ,\"qty_available\": 90} , \n",
    "        7:{\"product_name\":\"cupcake\",\"price\":52 ,\"exp_date\":\"2/12/2021\" ,\"quantity\":\"50g\"  ,\"qty_available\":50 } , \n",
    "        8:{\"product_name\":\"lays\",\"price\": 12,\"exp_date\":\"2/2/2022\" ,\"quantity\":\"20g\" ,\"qty_available\": 60} , \n",
    "        9:{\"product_name\":\"parleG\",\"price\":45 ,\"exp_date\":\"2/12/2022\" ,  \"quantity\":\"140g\",\"qty_available\": 80} , \n",
    "        10:{\"product_name\":\"cofee\",\"price\":150 ,\"exp_date\":\"5/5/2023\" ,\"quantity\":\"300g\"  ,\"qty_available\":100 } , \n",
    "        11:{\"product_name\":\"egg\",\"price\": 6,\"exp_date\": \"2/12/2021\",\"quantity\": \"1\" ,\"qty_available\":500 } , \n",
    "        12:{\"product_name\":\"bakingpowder\",\"price\":50 ,\"exp_date\":\"2/12/2022\" ,\"quantity\":\"250g\"  ,\"qty_available\": 70} , \n",
    "        13:{\"product_name\":\"pepper\",\"price\":35 ,\"exp_date\":\"2/12/2022\" ,\"quantity\": \"100g\" ,\"qty_available\": 60} , \n",
    "        14:{\"product_name\":\"turmeric\",\"price\": 60,\"exp_date\": \"21/11/2023\",\"quantity\": \"200g\" ,\"qty_available\":50 } , \n",
    "        15:{\"product_name\":\"chilipowder\",\"price\":58 ,\"exp_date\":\"23/11/2022\" ,\"quantity\":\"450g\"  ,\"qty_available\": 80} , \n",
    "        16:{\"product_name\":\"salt\",\"price\":48 ,\"exp_date\":\"8/6/2022\" ,\"quantity\":\"500g\"  ,\"qty_available\": 70} , \n",
    "        17:{\"product_name\":\"sugar\",\"price\":60 ,\"exp_date\": \"2/5/2022\",\"quantity\": \"1\" ,\"qty_available\": 60} ,         \n",
    "        18:{\"product_name\":\"ricefloor\",\"price\":90,\"exp_date\": \"7/12/2021\",\"quantity\": \"500g\" ,\"qty_available\": 65} , \n",
    "        19:{\"product_name\":\"wheatfloor\",\"price\":110 ,\"exp_date\":\"2/12/2022\" ,\"quantity\":\"10kg\"  ,\"qty_available\":86 } , \n",
    "        20:{\"product_name\":\"pepsi\",\"price\":20 ,\"exp_date\": \"2/12/2021\",\"quantity\": \"120ml\" ,\"qty_available\":51 } , \n",
    "        21:{\"product_name\":\"7up\",\"price\":18,\"exp_date\": \"2/12/2021\", \"quantity\":\"100ml\" ,\"qty_available\":43 } , \n",
    "        22:{\"product_name\":\"miranda\",\"price\":28 ,\"exp_date\":\"2/12/2021\" ,\"quantity\": \"100ml\" ,\"qty_available\": 29} , \n",
    "        23:{\"product_name\":\"water\",\"price\":30 ,\"exp_date\":\"2/9/2021\" ,\"quantity\": \"500ml\" ,\"qty_available\": 50} , \n",
    "        24:{\"product_name\":\"milk\",\"price\":25 ,\"exp_date\": \"2/9/2021\",\"quantity\":\"450ml\",\"qty_available\":53 } , \n",
    "        25:{\"product_name\":\"tea\",\"price\":100 ,\"exp_date\": \"9/8/2023\",\"quantity\": \"500g\" ,\"qty_available\": 90} , \n",
    "        26:{\"product_name\":\"noodles\",\"price\":20 ,\"exp_date\": \"2/10/2024\",\"quantity\":\"70g\"  ,\"qty_available\":75 } , \n",
    "        27:{\"product_name\":\"butter\",\"price\":112 ,\"exp_date\": \"27/9/2021\",\"quantity\":\"200g\"  ,\"qty_available\":46 } , \n",
    "        28:{\"product_name\":\"curd\",\"price\":55 ,\"exp_date\":\"22/9/2021\" ,\"quantity\": \"500ml\" ,\"qty_available\":51 } , \n",
    "        29:{\"product_name\":\"pen\",\"price\":10 ,\"exp_date\":\"7/11/2026\" ,\"quantity\": \"1\" ,\"qty_available\": 350} , \n",
    "        30:{\"product_name\":\"Notebook\",\"price\":50 ,\"exp_date\":\"25/12/2025\" ,\"quantity\":\"1\",\"qty_available\":158 } }"
   ]
  },
  {
   "cell_type": "code",
   "execution_count": 8,
   "metadata": {},
   "outputs": [
    {
     "data": {
      "text/plain": [
       "'{\"1\": {\"product_name\": \"rice\", \"price\": 452, \"exp_date\": \"2/12/2025\", \"quantity\": \"10kg\", \"qty_available\": 50}, \"2\": {\"product_name\": \"wheat\", \"price\": 300, \"exp_date\": \"2/11/2023\", \"quantity\": \"5kg\", \"qty_available\": 42}, \"3\": {\"product_name\": \"detergent\", \"price\": 200, \"exp_date\": \"22/7/2025\", \"quantity\": \"1.5kg\", \"qty_available\": 59}, \"4\": {\"product_name\": \"soap\", \"price\": 50, \"exp_date\": \"12/12/2022\", \"quantity\": \"1\", \"qty_available\": 200}, \"5\": {\"product_name\": \"sanitizer\", \"price\": 110, \"exp_date\": \"5/10/2023\", \"quantity\": \"100ml\", \"qty_available\": 100}, \"6\": {\"product_name\": \"handwash\", \"price\": 85, \"exp_date\": \"3/5/2022\", \"quantity\": \"100ml\", \"qty_available\": 90}, \"7\": {\"product_name\": \"cupcake\", \"price\": 52, \"exp_date\": \"2/12/2021\", \"quantity\": \"50g\", \"qty_available\": 50}, \"8\": {\"product_name\": \"lays\", \"price\": 12, \"exp_date\": \"2/2/2022\", \"quantity\": \"20g\", \"qty_available\": 60}, \"9\": {\"product_name\": \"parleG\", \"price\": 45, \"exp_date\": \"2/12/2022\", \"quantity\": \"140g\", \"qty_available\": 80}, \"10\": {\"product_name\": \"cofee\", \"price\": 150, \"exp_date\": \"5/5/2023\", \"quantity\": \"300g\", \"qty_available\": 100}, \"11\": {\"product_name\": \"egg\", \"price\": 6, \"exp_date\": \"2/12/2021\", \"quantity\": \"1\", \"qty_available\": 500}, \"12\": {\"product_name\": \"bakingpowder\", \"price\": 50, \"exp_date\": \"2/12/2022\", \"quantity\": \"250g\", \"qty_available\": 70}, \"13\": {\"product_name\": \"pepper\", \"price\": 35, \"exp_date\": \"2/12/2022\", \"quantity\": \"100g\", \"qty_available\": 60}, \"14\": {\"product_name\": \"turmeric\", \"price\": 60, \"exp_date\": \"21/11/2023\", \"quantity\": \"200g\", \"qty_available\": 50}, \"15\": {\"product_name\": \"chilipowder\", \"price\": 58, \"exp_date\": \"23/11/2022\", \"quantity\": \"450g\", \"qty_available\": 80}, \"16\": {\"product_name\": \"salt\", \"price\": 48, \"exp_date\": \"8/6/2022\", \"quantity\": \"500g\", \"qty_available\": 70}, \"17\": {\"product_name\": \"sugar\", \"price\": 60, \"exp_date\": \"2/5/2022\", \"quantity\": \"1\", \"qty_available\": 60}, \"18\": {\"product_name\": \"ricefloor\", \"price\": 90, \"exp_date\": \"7/12/2021\", \"quantity\": \"500g\", \"qty_available\": 65}, \"19\": {\"product_name\": \"wheatfloor\", \"price\": 110, \"exp_date\": \"2/12/2022\", \"quantity\": \"10kg\", \"qty_available\": 86}, \"20\": {\"product_name\": \"pepsi\", \"price\": 20, \"exp_date\": \"2/12/2021\", \"quantity\": \"120ml\", \"qty_available\": 51}, \"21\": {\"product_name\": \"7up\", \"price\": 18, \"exp_date\": \"2/12/2021\", \"quantity\": \"100ml\", \"qty_available\": 43}, \"22\": {\"product_name\": \"miranda\", \"price\": 28, \"exp_date\": \"2/12/2021\", \"quantity\": \"100ml\", \"qty_available\": 29}, \"23\": {\"product_name\": \"water\", \"price\": 30, \"exp_date\": \"2/9/2021\", \"quantity\": \"500ml\", \"qty_available\": 50}, \"24\": {\"product_name\": \"milk\", \"price\": 25, \"exp_date\": \"2/9/2021\", \"quantity\": \"450ml\", \"qty_available\": 53}, \"25\": {\"product_name\": \"tea\", \"price\": 100, \"exp_date\": \"9/8/2023\", \"quantity\": \"500g\", \"qty_available\": 90}, \"26\": {\"product_name\": \"noodles\", \"price\": 20, \"exp_date\": \"2/10/2024\", \"quantity\": \"70g\", \"qty_available\": 75}, \"27\": {\"product_name\": \"butter\", \"price\": 112, \"exp_date\": \"27/9/2021\", \"quantity\": \"200g\", \"qty_available\": 46}, \"28\": {\"product_name\": \"curd\", \"price\": 55, \"exp_date\": \"22/9/2021\", \"quantity\": \"500ml\", \"qty_available\": 51}, \"29\": {\"product_name\": \"pen\", \"price\": 10, \"exp_date\": \"7/11/2026\", \"quantity\": \"1\", \"qty_available\": 350}, \"30\": {\"product_name\": \"Notebook\", \"price\": 50, \"exp_date\": \"25/12/2025\", \"quantity\": \"1\", \"qty_available\": 158}}'"
      ]
     },
     "execution_count": 8,
     "metadata": {},
     "output_type": "execute_result"
    }
   ],
   "source": [
    "import json\n",
    "jn = json.dumps(product)\n",
    "fd = open(\"inventorymanagementsystem.json\",'r')\n",
    "txt = fd.read()\n",
    "fd.close()\n",
    "txt\n"
   ]
  },
  {
   "cell_type": "code",
   "execution_count": 3,
   "metadata": {},
   "outputs": [
    {
     "name": "stdout",
     "output_type": "stream",
     "text": [
      "enter number of products to be purchased:2\n",
      "enter product id:8\n",
      "enter quantity required:2\n",
      "price_total: 24\n",
      "product_name: lays\n",
      "exp_date: 2/2/2022\n",
      "quantity: 20g\n",
      "enter product id:21\n",
      "enter quantity required:3\n",
      "price_total: 54\n",
      "product_name: 7up\n",
      "exp_date: 2/12/2021\n",
      "quantity: 100ml\n"
     ]
    }
   ],
   "source": [
    "n =int(input(\"enter number of products to be purchased:\"))\n",
    "i=0\n",
    "while n > i:\n",
    "    prod_id=int(input(\"enter product id:\"))\n",
    "    prod_qty=int(input(\"enter quantity required:\"))\n",
    "    product[prod_id][\"qty_available\"]=product[prod_id][\"qty_available\"] - prod_qty\n",
    "    price = product[prod_id][\"price\"]*(prod_qty)\n",
    "    i= i+1\n",
    "    print(\"price_total:\",price)\n",
    "    print(\"product_name:\",product[prod_id][\"product_name\"])\n",
    "    print(\"exp_date:\",product[prod_id][\"exp_date\"])\n",
    "    print(\"quantity:\",product[prod_id][\"quantity\"])\n",
    "    "
   ]
  },
  {
   "cell_type": "code",
   "execution_count": 4,
   "metadata": {},
   "outputs": [],
   "source": [
    "jn = json.dumps(product)\n",
    "\n",
    "fd = open(\"sale_in_product.json\",'w')\n",
    "fd.write(jn)\n",
    "fd.close()"
   ]
  },
  {
   "cell_type": "markdown",
   "metadata": {},
   "source": [
    "##### checking product updated or not\n"
   ]
  },
  {
   "cell_type": "code",
   "execution_count": 5,
   "metadata": {},
   "outputs": [
    {
     "data": {
      "text/plain": [
       "{1: {'product_name': 'rice',\n",
       "  'price': 452,\n",
       "  'exp_date': '2/12/2025',\n",
       "  'quantity': '10kg',\n",
       "  'qty_available': 50},\n",
       " 2: {'product_name': 'wheat',\n",
       "  'price': 300,\n",
       "  'exp_date': '2/11/2023',\n",
       "  'quantity': '5kg',\n",
       "  'qty_available': 45},\n",
       " 3: {'product_name': 'detergent',\n",
       "  'price': 200,\n",
       "  'exp_date': '22/7/2025',\n",
       "  'quantity': '1.5kg',\n",
       "  'qty_available': 60},\n",
       " 4: {'product_name': 'soap',\n",
       "  'price': 50,\n",
       "  'exp_date': '12/12/2022',\n",
       "  'quantity': '1',\n",
       "  'qty_available': 200},\n",
       " 5: {'product_name': 'sanitizer',\n",
       "  'price': 110,\n",
       "  'exp_date': '5/10/2023',\n",
       "  'quantity': '100ml',\n",
       "  'qty_available': 100},\n",
       " 6: {'product_name': 'handwash',\n",
       "  'price': 85,\n",
       "  'exp_date': '3/5/2022',\n",
       "  'quantity': '100ml',\n",
       "  'qty_available': 90},\n",
       " 7: {'product_name': 'cupcake',\n",
       "  'price': 52,\n",
       "  'exp_date': '2/12/2021',\n",
       "  'quantity': '50g',\n",
       "  'qty_available': 50},\n",
       " 8: {'product_name': 'lays',\n",
       "  'price': 12,\n",
       "  'exp_date': '2/2/2022',\n",
       "  'quantity': '20g',\n",
       "  'qty_available': 58},\n",
       " 9: {'product_name': 'parleG',\n",
       "  'price': 45,\n",
       "  'exp_date': '2/12/2022',\n",
       "  'quantity': '140g',\n",
       "  'qty_available': 80},\n",
       " 10: {'product_name': 'cofee',\n",
       "  'price': 150,\n",
       "  'exp_date': '5/5/2023',\n",
       "  'quantity': '300g',\n",
       "  'qty_available': 100},\n",
       " 11: {'product_name': 'egg',\n",
       "  'price': 6,\n",
       "  'exp_date': '2/12/2021',\n",
       "  'quantity': '1',\n",
       "  'qty_available': 500},\n",
       " 12: {'product_name': 'bakingpowder',\n",
       "  'price': 50,\n",
       "  'exp_date': '2/12/2022',\n",
       "  'quantity': '250g',\n",
       "  'qty_available': 70},\n",
       " 13: {'product_name': 'pepper',\n",
       "  'price': 35,\n",
       "  'exp_date': '2/12/2022',\n",
       "  'quantity': '100g',\n",
       "  'qty_available': 60},\n",
       " 14: {'product_name': 'turmeric',\n",
       "  'price': 60,\n",
       "  'exp_date': '21/11/2023',\n",
       "  'quantity': '200g',\n",
       "  'qty_available': 50},\n",
       " 15: {'product_name': 'chilipowder',\n",
       "  'price': 58,\n",
       "  'exp_date': '23/11/2022',\n",
       "  'quantity': '450g',\n",
       "  'qty_available': 80},\n",
       " 16: {'product_name': 'salt',\n",
       "  'price': 48,\n",
       "  'exp_date': '8/6/2022',\n",
       "  'quantity': '500g',\n",
       "  'qty_available': 70},\n",
       " 17: {'product_name': 'sugar',\n",
       "  'price': 60,\n",
       "  'exp_date': '2/5/2022',\n",
       "  'quantity': '1',\n",
       "  'qty_available': 60},\n",
       " 18: {'product_name': 'ricefloor',\n",
       "  'price': 90,\n",
       "  'exp_date': '7/12/2021',\n",
       "  'quantity': '500g',\n",
       "  'qty_available': 65},\n",
       " 19: {'product_name': 'wheatfloor',\n",
       "  'price': 110,\n",
       "  'exp_date': '2/12/2022',\n",
       "  'quantity': '10kg',\n",
       "  'qty_available': 86},\n",
       " 20: {'product_name': 'pepsi',\n",
       "  'price': 20,\n",
       "  'exp_date': '2/12/2021',\n",
       "  'quantity': '120ml',\n",
       "  'qty_available': 51},\n",
       " 21: {'product_name': '7up',\n",
       "  'price': 18,\n",
       "  'exp_date': '2/12/2021',\n",
       "  'quantity': '100ml',\n",
       "  'qty_available': 40},\n",
       " 22: {'product_name': 'miranda',\n",
       "  'price': 28,\n",
       "  'exp_date': '2/12/2021',\n",
       "  'quantity': '100ml',\n",
       "  'qty_available': 29},\n",
       " 23: {'product_name': 'water',\n",
       "  'price': 30,\n",
       "  'exp_date': '2/9/2021',\n",
       "  'quantity': '500ml',\n",
       "  'qty_available': 50},\n",
       " 24: {'product_name': 'milk',\n",
       "  'price': 25,\n",
       "  'exp_date': '2/9/2021',\n",
       "  'quantity': '450ml',\n",
       "  'qty_available': 53},\n",
       " 25: {'product_name': 'tea',\n",
       "  'price': 100,\n",
       "  'exp_date': '9/8/2023',\n",
       "  'quantity': '500g',\n",
       "  'qty_available': 90},\n",
       " 26: {'product_name': 'noodles',\n",
       "  'price': 20,\n",
       "  'exp_date': '2/10/2024',\n",
       "  'quantity': '70g',\n",
       "  'qty_available': 75},\n",
       " 27: {'product_name': 'butter',\n",
       "  'price': 112,\n",
       "  'exp_date': '27/9/2021',\n",
       "  'quantity': '200g',\n",
       "  'qty_available': 46},\n",
       " 28: {'product_name': 'curd',\n",
       "  'price': 55,\n",
       "  'exp_date': '22/9/2021',\n",
       "  'quantity': '500ml',\n",
       "  'qty_available': 51},\n",
       " 29: {'product_name': 'pen',\n",
       "  'price': 10,\n",
       "  'exp_date': '7/11/2026',\n",
       "  'quantity': '1',\n",
       "  'qty_available': 350},\n",
       " 30: {'product_name': 'Notebook',\n",
       "  'price': 50,\n",
       "  'exp_date': '25/12/2025',\n",
       "  'quantity': '1',\n",
       "  'qty_available': 158}}"
      ]
     },
     "execution_count": 5,
     "metadata": {},
     "output_type": "execute_result"
    }
   ],
   "source": [
    "product"
   ]
  },
  {
   "cell_type": "markdown",
   "metadata": {},
   "source": [
    "#### Billing of product purchased"
   ]
  },
  {
   "cell_type": "code",
   "execution_count": 7,
   "metadata": {},
   "outputs": [
    {
     "name": "stdout",
     "output_type": "stream",
     "text": [
      " -----------------------------------\n",
      "************ BILL ******************\n",
      "product: 7up\n",
      "quantity 100ml\n",
      "purchased quantity: 3\n",
      "price: 54\n",
      "product: 7up\n",
      "quantity 100ml\n",
      "purchased quantity: 3\n",
      "price: 54\n",
      "-------------------------------------\n",
      "Total amount: 108\n",
      "discount of 8%\n",
      "-------------------------------------\n",
      "Billing amount: 99.36\n",
      "-------------------------------------\n",
      "*************************************\n"
     ]
    }
   ],
   "source": [
    "print(\" -----------------------------------\")\n",
    "print(\"************ BILL ******************\")\n",
    "i=0\n",
    "sum = 0\n",
    "while n > i:\n",
    "    print(\"product:\",product[prod_id][\"product_name\"])\n",
    "    print(\"quantity\",product[prod_id][\"quantity\"])\n",
    "    print(\"purchased quantity:\",prod_qty)\n",
    "    price = product[prod_id][\"price\"]*(prod_qty)\n",
    "    print(\"price:\",price)\n",
    "    sum = sum + price\n",
    "    i= i+1\n",
    "print(\"-------------------------------------\")\n",
    "print(\"Total amount:\",sum)\n",
    "print(\"discount of 8%\")\n",
    "print(\"-------------------------------------\")\n",
    "print(\"Billing amount:\",sum-sum*0.08)\n",
    "print(\"-------------------------------------\")\n",
    "print(\"*************************************\")\n",
    "   "
   ]
  },
  {
   "cell_type": "code",
   "execution_count": null,
   "metadata": {},
   "outputs": [],
   "source": []
  }
 ],
 "metadata": {
  "kernelspec": {
   "display_name": "Python 3",
   "language": "python",
   "name": "python3"
  },
  "language_info": {
   "codemirror_mode": {
    "name": "ipython",
    "version": 3
   },
   "file_extension": ".py",
   "mimetype": "text/x-python",
   "name": "python",
   "nbconvert_exporter": "python",
   "pygments_lexer": "ipython3",
   "version": "3.8.5"
  }
 },
 "nbformat": 4,
 "nbformat_minor": 4
}
